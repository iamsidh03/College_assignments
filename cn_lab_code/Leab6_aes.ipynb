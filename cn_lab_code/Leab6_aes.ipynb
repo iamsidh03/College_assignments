{
 "cells": [
  {
   "cell_type": "code",
   "execution_count": null,
   "id": "8cacd327-5001-4634-9236-f52f9946a2b8",
   "metadata": {},
   "outputs": [
    {
     "name": "stdout",
     "output_type": "stream",
     "text": [
      "Collecting pycryptodome\n",
      "  Using cached pycryptodome-3.23.0-cp37-abi3-win_amd64.whl.metadata (3.5 kB)\n",
      "Using cached pycryptodome-3.23.0-cp37-abi3-win_amd64.whl (1.8 MB)\n",
      "Installing collected packages: pycryptodome\n",
      "Successfully installed pycryptodome-3.23.0\n"
     ]
    },
    {
     "name": "stderr",
     "output_type": "stream",
     "text": [
      "\n",
      "[notice] A new release of pip is available: 24.3.1 -> 25.1.1\n",
      "[notice] To update, run: python.exe -m pip install --upgrade pip\n"
     ]
    }
   ],
   "source": [
    "%pip install pycryptodome\n"
   ]
  },
  {
   "cell_type": "markdown",
   "id": "a67e49ab-fbf3-4025-bd7d-3328e68a133e",
   "metadata": {},
   "source": [
    "Obj2\n",
    "Execution of AES algorithm for encryption and decryption of text message."
   ]
  },
  {
   "cell_type": "code",
   "execution_count": null,
   "id": "d043f877-dc63-4ad9-8611-56ff0b28ed3f",
   "metadata": {},
   "outputs": [],
   "source": [
    "from Crypto.Cipher import AES\n",
    "from Crypto.Util.Padding import pad, unpad\n",
    "from Crypto.Random import get_random_bytes\n",
    "import binascii\n",
    "\n",
    "# AES encryption\n",
    "def aes_encrypt(plaintext, key):\n",
    "    key = key.encode()  # Convert key to bytes\n",
    "    if len(key) not in [16, 24, 32]:\n",
    "        raise ValueError(\"Key must be 16, 24, or 32 bytes long (128, 192, or 256 bits).\")\n",
    "    \n",
    "    cipher = AES.new(key, AES.MODE_CBC)\n",
    "    iv = cipher.iv  # Initialization Vector\n",
    "    padded_text = pad(plaintext.encode(), AES.block_size)\n",
    "    encrypted = cipher.encrypt(padded_text)\n",
    "    \n",
    "    # Combine IV and ciphertext for transmission\n",
    "    return binascii.hexlify(iv + encrypted).decode()\n",
    "\n",
    "# AES decryption\n",
    "def aes_decrypt(ciphertext_hex, key):\n",
    "    key = key.encode()\n",
    "    if len(key) not in [16, 24, 32]:\n",
    "        raise ValueError(\"Key must be 16, 24, or 32 bytes long.\")\n",
    "\n",
    "    ciphertext = binascii.unhexlify(ciphertext_hex)\n",
    "    iv = ciphertext[:AES.block_size]\n",
    "    encrypted = ciphertext[AES.block_size:]\n",
    "    \n",
    "    cipher = AES.new(key, AES.MODE_CBC, iv)\n",
    "    decrypted = unpad(cipher.decrypt(encrypted), AES.block_size)\n",
    "    return decrypted.decode()\n",
    "\n",
    "# === User Inputs ===\n",
    "key_input = input(\"Enter AES key (16/24/32 characters): \")\n",
    "plaintext_input = input(\"Enter plaintext to encrypt: \")\n",
    "\n",
    "# Encrypt\n",
    "encrypted_text = aes_encrypt(plaintext_input, key_input)\n",
    "print(\"Encrypted Text (Hex):\", encrypted_text)\n",
    "\n",
    "# Decrypt\n",
    "decrypted_text = aes_decrypt(encrypted_text, key_input)\n",
    "print(\"Decrypted Text:\", decrypted_text)\n"
   ]
  },
  {
   "cell_type": "code",
   "execution_count": null,
   "id": "3c2dbb33-4507-4e76-8a6a-28d51d2f943e",
   "metadata": {},
   "outputs": [
    {
     "name": "stdout",
     "output_type": "stream",
     "text": [
      "Collecting cryptography\n",
      "  Downloading cryptography-45.0.3-cp311-abi3-win_amd64.whl.metadata (5.7 kB)\n",
      "Collecting cffi>=1.14 (from cryptography)\n",
      "  Using cached cffi-1.17.1-cp313-cp313-win_amd64.whl.metadata (1.6 kB)\n",
      "Collecting pycparser (from cffi>=1.14->cryptography)\n",
      "  Using cached pycparser-2.22-py3-none-any.whl.metadata (943 bytes)\n",
      "Downloading cryptography-45.0.3-cp311-abi3-win_amd64.whl (3.4 MB)\n",
      "   ---------------------------------------- 0.0/3.4 MB ? eta -:--:--\n",
      "   ------------------------------ --------- 2.6/3.4 MB 18.7 MB/s eta 0:00:01\n",
      "   ---------------------------------------- 3.4/3.4 MB 16.1 MB/s eta 0:00:00\n",
      "Using cached cffi-1.17.1-cp313-cp313-win_amd64.whl (182 kB)\n",
      "Using cached pycparser-2.22-py3-none-any.whl (117 kB)\n",
      "Installing collected packages: pycparser, cffi, cryptography\n",
      "Successfully installed cffi-1.17.1 cryptography-45.0.3 pycparser-2.22\n",
      "Note: you may need to restart the kernel to use updated packages.\n"
     ]
    },
    {
     "name": "stderr",
     "output_type": "stream",
     "text": [
      "\n",
      "[notice] A new release of pip is available: 24.3.1 -> 25.1.1\n",
      "[notice] To update, run: python.exe -m pip install --upgrade pip\n"
     ]
    }
   ],
   "source": [
    "%pip install cryptography\n"
   ]
  },
  {
   "cell_type": "code",
   "execution_count": null,
   "id": "6b975c99",
   "metadata": {},
   "outputs": [],
   "source": [
    "from cryptography.hazmat.primitives.asymmetric import rsa, padding\n",
    "from cryptography.hazmat.primitives import hashes\n",
    "from cryptography.hazmat.primitives import serialization\n",
    "\n",
    "# === Step 1: Generate RSA Key Pair ===\n",
    "private_key = rsa.generate_private_key(public_exponent=65537, key_size=2048)\n",
    "public_key = private_key.public_key()\n",
    "\n",
    "# === Step 2: Input message ===\n",
    "message = input(\"Enter the message to encrypt: \").encode()\n",
    "\n",
    "# === Step 3: Encrypt with Public Key ===\n",
    "ciphertext = public_key.encrypt(\n",
    "    message,\n",
    "    padding.OAEP(\n",
    "        mgf=padding.MGF1(algorithm=hashes.SHA256()),\n",
    "        algorithm=hashes.SHA256(),\n",
    "        label=None\n",
    "    )\n",
    ")\n",
    "print(\"\\n🔐 Encrypted message (in bytes):\", ciphertext)\n",
    "\n",
    "# === Step 4: Decrypt with Private Key ===\n",
    "decrypted_message = private_key.decrypt(\n",
    "    ciphertext,\n",
    "    padding.OAEP(\n",
    "        mgf=padding.MGF1(algorithm=hashes.SHA256()),\n",
    "        algorithm=hashes.SHA256(),\n",
    "        label=None\n",
    "    )\n",
    ")\n",
    "print(\"\\n✅ Decrypted message:\", decrypted_message.decode())\n"
   ]
  }
 ],
 "metadata": {
  "kernelspec": {
   "display_name": "Python 3",
   "language": "python",
   "name": "python3"
  },
  "language_info": {
   "codemirror_mode": {
    "name": "ipython",
    "version": 3
   },
   "file_extension": ".py",
   "mimetype": "text/x-python",
   "name": "python",
   "nbconvert_exporter": "python",
   "pygments_lexer": "ipython3",
   "version": "3.13.2"
  }
 },
 "nbformat": 4,
 "nbformat_minor": 5
}

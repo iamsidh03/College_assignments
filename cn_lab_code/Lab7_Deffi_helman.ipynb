{
 "cells": [
  {
   "cell_type": "markdown",
   "id": "dcb7b35b-9a04-4513-95ba-6563d8bd0563",
   "metadata": {},
   "source": [
    "Execution of Diffie-Helman algorithm for key exchange between a source and destination host."
   ]
  },
  {
   "cell_type": "code",
   "execution_count": 1,
   "id": "ad2eebad-5a97-44a3-8c37-701d9bacba67",
   "metadata": {},
   "outputs": [
    {
     "name": "stdin",
     "output_type": "stream",
     "text": [
      "Enter a large prime number (p):  23\n",
      "Enter a primitive root modulo p (g):  5\n"
     ]
    },
    {
     "name": "stdout",
     "output_type": "stream",
     "text": [
      "\n",
      "--- Source Host Side (Alice) ---\n",
      "Alice's Private Key (a): 18\n",
      "Alice's Public Key (A = g^a mod p): 6\n",
      "\n",
      "--- Destination Host Side (Bob) ---\n",
      "Bob's Private Key (b): 4\n",
      "Bob's Public Key (B = g^b mod p): 4\n",
      "\n",
      "--- Shared Secret Key Computation ---\n",
      "Shared Key computed by Alice: 8\n",
      "Shared Key computed by Bob:   8\n",
      "\n",
      "✅ Key exchange successful! Both hosts have the same secret key.\n"
     ]
    }
   ],
   "source": [
    "import random\n",
    "\n",
    "# Function to calculate (base^exp) % mod using fast modular exponentiation\n",
    "def power(base, exp, mod):\n",
    "    result = 1\n",
    "    base = base % mod\n",
    "    while exp > 0:\n",
    "        if exp % 2 == 1:  # If exponent is odd\n",
    "            result = (result * base) % mod\n",
    "        exp = exp // 2\n",
    "        base = (base * base) % mod\n",
    "    return result\n",
    "\n",
    "# Step 1: Publicly agreed prime number (p) and primitive root (g)\n",
    "p = int(input(\"Enter a large prime number (p): \"))\n",
    "g = int(input(\"Enter a primitive root modulo p (g): \"))\n",
    "\n",
    "print(\"\\n--- Source Host Side (Alice) ---\")\n",
    "a = random.randint(2, p-2)  # Alice's private key\n",
    "print(\"Alice's Private Key (a):\", a)\n",
    "A = power(g, a, p)  # Alice's public key\n",
    "print(\"Alice's Public Key (A = g^a mod p):\", A)\n",
    "\n",
    "print(\"\\n--- Destination Host Side (Bob) ---\")\n",
    "b = random.randint(2, p-2)  # Bob's private key\n",
    "print(\"Bob's Private Key (b):\", b)\n",
    "B = power(g, b, p)  # Bob's public key\n",
    "print(\"Bob's Public Key (B = g^b mod p):\", B)\n",
    "\n",
    "# Key Exchange\n",
    "print(\"\\n--- Shared Secret Key Computation ---\")\n",
    "shared_key_alice = power(B, a, p)  # Alice computes shared key\n",
    "shared_key_bob = power(A, b, p)    # Bob computes shared key\n",
    "\n",
    "print(\"Shared Key computed by Alice:\", shared_key_alice)\n",
    "print(\"Shared Key computed by Bob:  \", shared_key_bob)\n",
    "\n",
    "if shared_key_alice == shared_key_bob:\n",
    "    print(\"\\n✅ Key exchange successful! Both hosts have the same secret key.\")\n",
    "else:\n",
    "    print(\"\\n❌ Key exchange failed! Shared keys do not match.\")\n"
   ]
  },
  {
   "cell_type": "markdown",
   "id": "289f3aba-3dd5-4021-be8e-fda1b10c5028",
   "metadata": {},
   "source": []
  },
  {
   "cell_type": "markdown",
   "id": "0279ddbf-9bb0-4cf5-82f6-56f7a81dbaac",
   "metadata": {},
   "source": [
    "Execution of public key crypto-system for authentication verification of source using digital\n",
    "signature in cryptography process."
   ]
  },
  {
   "cell_type": "code",
   "execution_count": 2,
   "id": "6e936aab-0870-4b14-9768-ace86e2aab9a",
   "metadata": {},
   "outputs": [
    {
     "name": "stdout",
     "output_type": "stream",
     "text": [
      "Collecting cryptography\n",
      "  Downloading cryptography-45.0.2-cp311-abi3-win_amd64.whl.metadata (5.7 kB)\n",
      "Requirement already satisfied: cffi>=1.14 in c:\\users\\siddh\\downloads\\all_code\\python_sem_dev\\venv\\lib\\site-packages (from cryptography) (1.17.1)\n",
      "Requirement already satisfied: pycparser in c:\\users\\siddh\\downloads\\all_code\\python_sem_dev\\venv\\lib\\site-packages (from cffi>=1.14->cryptography) (2.22)\n",
      "Downloading cryptography-45.0.2-cp311-abi3-win_amd64.whl (3.4 MB)\n",
      "   ---------------------------------------- 0.0/3.4 MB ? eta -:--:--\n",
      "   ---------------------------------------  3.4/3.4 MB 29.2 MB/s eta 0:00:01\n",
      "   ---------------------------------------- 3.4/3.4 MB 23.0 MB/s eta 0:00:00\n",
      "Installing collected packages: cryptography\n",
      "Successfully installed cryptography-45.0.2\n"
     ]
    },
    {
     "name": "stderr",
     "output_type": "stream",
     "text": [
      "\n",
      "[notice] A new release of pip is available: 24.3.1 -> 25.1.1\n",
      "[notice] To update, run: python.exe -m pip install --upgrade pip\n"
     ]
    }
   ],
   "source": [
    "!pip install cryptography\n",
    "\n"
   ]
  },
  {
   "cell_type": "code",
   "execution_count": 3,
   "id": "b23e7eab-c1c0-4c5e-aa7d-7aaaf01b9956",
   "metadata": {},
   "outputs": [
    {
     "name": "stdin",
     "output_type": "stream",
     "text": [
      "Enter a message to sign and verify:  CSE3752 Lab 4\n"
     ]
    },
    {
     "name": "stdout",
     "output_type": "stream",
     "text": [
      "\n",
      "✅ Message signed successfully.\n",
      "✅ Signature is valid. Message is authenticated and verified.\n"
     ]
    }
   ],
   "source": [
    "from cryptography.hazmat.primitives.asymmetric import rsa, padding\n",
    "from cryptography.hazmat.primitives import hashes, serialization\n",
    "from cryptography.exceptions import InvalidSignature\n",
    "\n",
    "# === Step 1: Key Generation (Public and Private) ===\n",
    "private_key = rsa.generate_private_key(public_exponent=65537, key_size=2048)\n",
    "public_key = private_key.public_key()\n",
    "\n",
    "# === Step 2: Input Message ===\n",
    "message = input(\"Enter a message to sign and verify: \").encode()\n",
    "\n",
    "# === Step 3: Digital Signature (Source signs with private key) ===\n",
    "signature = private_key.sign(\n",
    "    message,\n",
    "    padding.PSS(\n",
    "        mgf=padding.MGF1(hashes.SHA256()),\n",
    "        salt_length=padding.PSS.MAX_LENGTH\n",
    "    ),\n",
    "    hashes.SHA256()\n",
    ")\n",
    "print(\"\\n✅ Message signed successfully.\")\n",
    "\n",
    "# === Step 4: Digital Signature Verification (Destination verifies with public key) ===\n",
    "try:\n",
    "    public_key.verify(\n",
    "        signature,\n",
    "        message,\n",
    "        padding.PSS(\n",
    "            mgf=padding.MGF1(hashes.SHA256()),\n",
    "            salt_length=padding.PSS.MAX_LENGTH\n",
    "        ),\n",
    "        hashes.SHA256()\n",
    "    )\n",
    "    print(\"✅ Signature is valid. Message is authenticated and verified.\")\n",
    "except InvalidSignature:\n",
    "    print(\"❌ Signature is invalid. Message authentication failed.\")\n"
   ]
  },
  {
   "cell_type": "code",
   "execution_count": null,
   "id": "4d13e2a0-38b6-4fa9-bf95-47e8c2570f4d",
   "metadata": {},
   "outputs": [],
   "source": []
  }
 ],
 "metadata": {
  "kernelspec": {
   "display_name": "Python 3 (ipykernel)",
   "language": "python",
   "name": "python3"
  },
  "language_info": {
   "codemirror_mode": {
    "name": "ipython",
    "version": 3
   },
   "file_extension": ".py",
   "mimetype": "text/x-python",
   "name": "python",
   "nbconvert_exporter": "python",
   "pygments_lexer": "ipython3",
   "version": "3.13.2"
  }
 },
 "nbformat": 4,
 "nbformat_minor": 5
}

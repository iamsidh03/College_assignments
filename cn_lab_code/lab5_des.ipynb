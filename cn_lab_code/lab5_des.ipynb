{
 "cells": [
  {
   "cell_type": "code",
   "execution_count": 3,
   "id": "6611aee8-3dd9-49df-b691-3167259f0937",
   "metadata": {},
   "outputs": [
    {
     "name": "stdout",
     "output_type": "stream",
     "text": [
      "Requirement already satisfied: pycryptodome in c:\\users\\siddh\\downloads\\all_code\\python_sem_dev\\venv\\lib\\site-packages (3.23.0)\n"
     ]
    },
    {
     "name": "stderr",
     "output_type": "stream",
     "text": [
      "\n",
      "[notice] A new release of pip is available: 24.3.1 -> 25.1.1\n",
      "[notice] To update, run: python.exe -m pip install --upgrade pip\n"
     ]
    }
   ],
   "source": [
    "!pip install pycryptodome\n"
   ]
  },
  {
   "cell_type": "markdown",
   "id": "29017f0e-21da-4967-a917-cb3937f26a41",
   "metadata": {},
   "source": [
    "'''Obj:2\n",
    "Execution of DES algorithm for encryption and decryption of digital information.'''"
   ]
  },
  {
   "cell_type": "code",
   "execution_count": 1,
   "id": "4074c3c8-3dbe-445f-9de0-dbf6262ad219",
   "metadata": {},
   "outputs": [
    {
     "name": "stdout",
     "output_type": "stream",
     "text": [
      "=== DES Encryption & Decryption ===\n"
     ]
    },
    {
     "name": "stdin",
     "output_type": "stream",
     "text": [
      "Enter 8-character key:  password\n",
      "Enter plaintext to encrypt:  CSE3752 Lab\n"
     ]
    },
    {
     "name": "stdout",
     "output_type": "stream",
     "text": [
      "Encrypted Text (Hex): 423427b399f4015eea91a4bb87ad4a8e\n",
      "Decrypted Text: CSE3752 Lab\n"
     ]
    }
   ],
   "source": [
    "\n",
    "from Crypto.Cipher import DES\n",
    "from Crypto.Util.Padding import pad, unpad\n",
    "import binascii\n",
    "\n",
    "def des_encrypt(plaintext, key):\n",
    "    cipher = DES.new(key, DES.MODE_ECB)\n",
    "    padded_text = pad(plaintext.encode(), DES.block_size)\n",
    "    encrypted = cipher.encrypt(padded_text)\n",
    "    return binascii.hexlify(encrypted).decode()  # Hex encoded for readability\n",
    "\n",
    "def des_decrypt(ciphertext, key):\n",
    "    cipher = DES.new(key, DES.MODE_ECB)\n",
    "    decrypted = cipher.decrypt(binascii.unhexlify(ciphertext))\n",
    "    return unpad(decrypted, DES.block_size).decode()\n",
    "\n",
    "if __name__ == \"__main__\":\n",
    "    print(\"=== DES Encryption & Decryption ===\")\n",
    "    \n",
    "    # User input\n",
    "    key_input = input(\"Enter 8-character key: \")\n",
    "    if len(key_input) != 8:\n",
    "        print(\"Key must be exactly 8 characters for DES.\")\n",
    "        exit()\n",
    "    \n",
    "    plaintext = input(\"Enter plaintext to encrypt: \")\n",
    "\n",
    "    # Encryption\n",
    "    encrypted_text = des_encrypt(plaintext, key_input.encode())\n",
    "    print(\"Encrypted Text (Hex):\", encrypted_text)\n",
    "\n",
    "    # Decryption\n",
    "    decrypted_text = des_decrypt(encrypted_text, key_input.encode())\n",
    "    print(\"Decrypted Text:\", decrypted_text)\n"
   ]
  },
  {
   "cell_type": "code",
   "execution_count": null,
   "id": "0fd5c769-829a-4874-8b21-72fd5a29acbc",
   "metadata": {},
   "outputs": [],
   "source": []
  }
 ],
 "metadata": {
  "kernelspec": {
   "display_name": "Python 3 (ipykernel)",
   "language": "python",
   "name": "python3"
  },
  "language_info": {
   "codemirror_mode": {
    "name": "ipython",
    "version": 3
   },
   "file_extension": ".py",
   "mimetype": "text/x-python",
   "name": "python",
   "nbconvert_exporter": "python",
   "pygments_lexer": "ipython3",
   "version": "3.13.2"
  }
 },
 "nbformat": 4,
 "nbformat_minor": 5
}

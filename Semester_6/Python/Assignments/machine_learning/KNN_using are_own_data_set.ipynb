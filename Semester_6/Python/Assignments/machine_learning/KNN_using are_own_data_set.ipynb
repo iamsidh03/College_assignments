{
 "cells": [
  {
   "cell_type": "code",
   "execution_count": 44,
   "id": "3a0d62ec-62a5-48b2-9e3d-abee43961ee2",
   "metadata": {},
   "outputs": [],
   "source": [
    "# 🧃 Scenario: Predicting a Drink Type\n",
    "# Imagine you work at a café and want to guess whether a drink is a Coffee or Juice just by looking at:\n",
    "\n",
    "# Temperature (in °C)\n",
    "\n",
    "# Sugar Level (grams)\n",
    "\n",
    "# Here’s some past data:\n",
    "\n",
    "# Temperature (°C)\tSugar (g)\tDrink Type\n",
    "# 80\t5\tCoffee\n",
    "# 75\t3\tCoffee\n",
    "# 85\t4\tCoffee\n",
    "# 20\t10\tJuice\n",
    "# 25\t12\tJuice\n",
    "# 18\t8\tJuice\n",
    "# Now, a customer gives you a drink at 30°C with 9g of sugar. What is it — Coffee or Juice?\n",
    "\n",
    "# 👣 Step-by-Step: KNN Calculation (K=3)\n",
    "# We’ll find the 3 nearest drinks from the table using Euclidean distance.\n",
    "\n",
    "\n",
    "# Let’s compute the distances manually:\n",
    "\n",
    "# Existing Drink\tTemp\tSugar\tType\tDistance to (30, 9)\n",
    "# D1\t80\t5\tCoffee\t√((30-80)² + (9-5)²) = √(2500 + 16) = √2516 ≈ 50.16\n",
    "# D2\t75\t3\tCoffee\t√((30-75)² + (9-3)²) = √(2025 + 36) = √2061 ≈ 45.39\n",
    "# D3\t85\t4\tCoffee\t√((30-85)² + (9-4)²) = √(3025 + 25) = √3050 ≈ 55.23\n",
    "# D4\t20\t10\tJuice\t√((30-20)² + (9-10)²) = √(100 + 1) = √101 ≈ 10.05\n",
    "# D5\t25\t12\tJuice\t√((30-25)² + (9-12)²) = √(25 + 9) = √34 ≈ 5.83\n",
    "# D6\t18\t8\tJuice\t√((30-18)² + (9-8)²) = √(144 + 1) = √145 ≈ 12.04\n",
    "# Step 2: Pick the 3 Nearest Neighbors\n",
    "# Top 3 shortest distances:\n",
    "\n",
    "# D5 → Juice (Distance: 5.83)\n",
    "\n",
    "# D4 → Juice (Distance: 10.05)\n",
    "\n",
    "# D6 → Juice (Distance: 12.04)\n",
    "\n",
    "# Step 3: Take a Majority Vote\n",
    "# All 3 nearest drinks are Juice → So KNN says:\n",
    "# 🧠 \"This drink is most likely a Juice!\"\n",
    "\n",
    "# 🧪 Try in Code (Fully Beginner-Friendly)"
   ]
  },
  {
   "cell_type": "code",
   "execution_count": 45,
   "id": "0b43b997-5f76-419b-8e5e-aa2e7a564680",
   "metadata": {},
   "outputs": [
    {
     "name": "stdout",
     "output_type": "stream",
     "text": [
      "Requirement already satisfied: scikit-learn in c:\\users\\siddh\\downloads\\all_code\\python\\venv\\lib\\site-packages (1.6.1)\n",
      "Requirement already satisfied: matplotlib in c:\\users\\siddh\\downloads\\all_code\\python\\venv\\lib\\site-packages (3.10.1)\n",
      "Requirement already satisfied: Seaborn in c:\\users\\siddh\\downloads\\all_code\\python\\venv\\lib\\site-packages (0.13.2)\n",
      "Requirement already satisfied: numpy>=1.19.5 in c:\\users\\siddh\\downloads\\all_code\\python\\venv\\lib\\site-packages (from scikit-learn) (2.2.5)\n",
      "Requirement already satisfied: scipy>=1.6.0 in c:\\users\\siddh\\downloads\\all_code\\python\\venv\\lib\\site-packages (from scikit-learn) (1.15.2)\n",
      "Requirement already satisfied: joblib>=1.2.0 in c:\\users\\siddh\\downloads\\all_code\\python\\venv\\lib\\site-packages (from scikit-learn) (1.4.2)\n",
      "Requirement already satisfied: threadpoolctl>=3.1.0 in c:\\users\\siddh\\downloads\\all_code\\python\\venv\\lib\\site-packages (from scikit-learn) (3.6.0)\n",
      "Requirement already satisfied: contourpy>=1.0.1 in c:\\users\\siddh\\downloads\\all_code\\python\\venv\\lib\\site-packages (from matplotlib) (1.3.2)\n",
      "Requirement already satisfied: cycler>=0.10 in c:\\users\\siddh\\downloads\\all_code\\python\\venv\\lib\\site-packages (from matplotlib) (0.12.1)\n",
      "Requirement already satisfied: fonttools>=4.22.0 in c:\\users\\siddh\\downloads\\all_code\\python\\venv\\lib\\site-packages (from matplotlib) (4.57.0)\n",
      "Requirement already satisfied: kiwisolver>=1.3.1 in c:\\users\\siddh\\downloads\\all_code\\python\\venv\\lib\\site-packages (from matplotlib) (1.4.8)\n",
      "Requirement already satisfied: packaging>=20.0 in c:\\users\\siddh\\downloads\\all_code\\python\\venv\\lib\\site-packages (from matplotlib) (24.2)\n",
      "Requirement already satisfied: pillow>=8 in c:\\users\\siddh\\downloads\\all_code\\python\\venv\\lib\\site-packages (from matplotlib) (11.2.1)\n",
      "Requirement already satisfied: pyparsing>=2.3.1 in c:\\users\\siddh\\downloads\\all_code\\python\\venv\\lib\\site-packages (from matplotlib) (3.2.3)\n",
      "Requirement already satisfied: python-dateutil>=2.7 in c:\\users\\siddh\\downloads\\all_code\\python\\venv\\lib\\site-packages (from matplotlib) (2.9.0.post0)\n",
      "Requirement already satisfied: pandas>=1.2 in c:\\users\\siddh\\downloads\\all_code\\python\\venv\\lib\\site-packages (from Seaborn) (2.2.3)\n",
      "Requirement already satisfied: pytz>=2020.1 in c:\\users\\siddh\\downloads\\all_code\\python\\venv\\lib\\site-packages (from pandas>=1.2->Seaborn) (2025.2)\n",
      "Requirement already satisfied: tzdata>=2022.7 in c:\\users\\siddh\\downloads\\all_code\\python\\venv\\lib\\site-packages (from pandas>=1.2->Seaborn) (2025.2)\n",
      "Requirement already satisfied: six>=1.5 in c:\\users\\siddh\\downloads\\all_code\\python\\venv\\lib\\site-packages (from python-dateutil>=2.7->matplotlib) (1.17.0)\n"
     ]
    }
   ],
   "source": [
    "!pip install scikit-learn matplotlib Seaborn\n"
   ]
  },
  {
   "cell_type": "code",
   "execution_count": 46,
   "id": "b3132b3b-af0f-429c-88d8-7d170218a4d8",
   "metadata": {},
   "outputs": [
    {
     "data": {
      "text/plain": [
       "'\\nimport-> keywords than brings extenal libries\\nnumpy is a powerfull library for working with tables of number\\nas np just givs you a nickname\\n'"
      ]
     },
     "execution_count": 46,
     "metadata": {},
     "output_type": "execute_result"
    }
   ],
   "source": [
    "import numpy as np\n",
    "'''\n",
    "import-> keywords than brings extenal libries\n",
    "numpy is a powerfull library for working with tables of number\n",
    "as np just givs you a nickname\n",
    "'''"
   ]
  },
  {
   "cell_type": "code",
   "execution_count": 47,
   "id": "1ca47f80-5de7-4292-af7c-9cf557205724",
   "metadata": {},
   "outputs": [
    {
     "data": {
      "text/plain": [
       "'\\nsklearn --> (scikit-learn) library with many machine learning tools\\nneighbors --> module(folder) that has various KNN stuffs\\nKNeighborsClassifier --> KNN tool that helps us classify(categorize) things based on their neighbors\\n\\n'"
      ]
     },
     "execution_count": 47,
     "metadata": {},
     "output_type": "execute_result"
    }
   ],
   "source": [
    "from sklearn.neighbors import KNeighborsClassifier\n",
    "'''\n",
    "sklearn --> (scikit-learn) library with many machine learning tools\n",
    "neighbors --> module(folder) that has various KNN stuffs\n",
    "KNeighborsClassifier --> KNN tool that helps us classify(categorize) things based on their neighbors\n",
    "\n",
    "'''"
   ]
  },
  {
   "cell_type": "code",
   "execution_count": 48,
   "id": "34635039-e2d0-41fb-a7d4-08ad0397fb73",
   "metadata": {},
   "outputs": [],
   "source": [
    "X = np.array([\n",
    "    [80, 5],\n",
    "    [75, 3],\n",
    "    [85, 4],\n",
    "    [20, 10],\n",
    "    [25, 12],\n",
    "    [18, 8]\n",
    "])\n",
    "y = ['Coffee', 'Coffee', 'Coffee', 'Juice', 'Juice', 'Juice']\n"
   ]
  },
  {
   "cell_type": "code",
   "execution_count": 49,
   "id": "9d5a34a1-e942-41b6-b0d4-b37ebd1729a0",
   "metadata": {},
   "outputs": [
    {
     "data": {
      "text/plain": [
       "'\\nmodel just a variable name\\nKNeighborsClassifiers()--> creates the KNN model\\nn_neighbors --> tell that this model look at 3 nearest neighbours\\nhere K =3\\nwe can change the value of k according to our need\\n'"
      ]
     },
     "execution_count": 49,
     "metadata": {},
     "output_type": "execute_result"
    }
   ],
   "source": [
    "model=KNeighborsClassifier(n_neighbors=5)\n",
    "'''\n",
    "model just a variable name\n",
    "KNeighborsClassifiers()--> creates the KNN model\n",
    "n_neighbors --> tell that this model look at 3 nearest neighbours\n",
    "here K =3\n",
    "we can change the value of k according to our need\n",
    "'''"
   ]
  },
  {
   "cell_type": "code",
   "execution_count": 50,
   "id": "d9012818-102a-402c-9780-7ef985813c02",
   "metadata": {},
   "outputs": [
    {
     "data": {
      "text/plain": [
       "'\\n.fit() --> this means train the model\\nx --> the feature: temp and sugar\\ny --> the correct labels:coffee and juice\\n'"
      ]
     },
     "execution_count": 50,
     "metadata": {},
     "output_type": "execute_result"
    }
   ],
   "source": [
    "model.fit(X,y)\n",
    "'''\n",
    ".fit() --> this means train the model\n",
    "x --> the feature: temp and sugar\n",
    "y --> the correct labels:coffee and juice\n",
    "'''"
   ]
  },
  {
   "cell_type": "code",
   "execution_count": 51,
   "id": "273a008b-c615-4c50-8578-a2633accbd08",
   "metadata": {},
   "outputs": [],
   "source": [
    "new_drink=np.array([[30,9]])\n",
    "'''\n",
    "must be in double bracket as it's a 2D array\n",
    "temp=30 \n",
    "sugar=9g\n",
    "'''\n",
    "prediction=model.predict(new_drink)"
   ]
  },
  {
   "cell_type": "code",
   "execution_count": 52,
   "id": "e0b214d0-5ae0-43c3-af64-14b01bf98905",
   "metadata": {},
   "outputs": [
    {
     "name": "stdout",
     "output_type": "stream",
     "text": [
      "the predicted drink is: Juice\n"
     ]
    }
   ],
   "source": [
    "print(f'the predicted drink is: {prediction[0]}')"
   ]
  },
  {
   "cell_type": "code",
   "execution_count": null,
   "id": "df5af20c-9e78-444d-8f39-5ea05d4fecf9",
   "metadata": {},
   "outputs": [],
   "source": []
  }
 ],
 "metadata": {
  "kernelspec": {
   "display_name": "Python 3 (ipykernel)",
   "language": "python",
   "name": "python3"
  },
  "language_info": {
   "codemirror_mode": {
    "name": "ipython",
    "version": 3
   },
   "file_extension": ".py",
   "mimetype": "text/x-python",
   "name": "python",
   "nbconvert_exporter": "python",
   "pygments_lexer": "ipython3",
   "version": "3.13.2"
  }
 },
 "nbformat": 4,
 "nbformat_minor": 5
}

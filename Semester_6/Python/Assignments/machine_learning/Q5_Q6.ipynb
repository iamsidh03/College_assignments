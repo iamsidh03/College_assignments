{
 "cells": [
  {
   "cell_type": "code",
   "execution_count": 2,
   "id": "c12c058a-f5d4-4a9f-a9fb-2db87e44c414",
   "metadata": {},
   "outputs": [],
   "source": [
    "# You are given some 2D points with their class labels (0 or 1). You are also given a new point P = (3.0, 3.0) and need to predict its class using the KNN algorithm.\n",
    "\n",
    "# We will:\n",
    "\n",
    "# Calculate the Euclidean distance from point P to each of the given points.\n",
    "\n",
    "# Choose the k nearest neighbors (we’ll use k = 3 unless told otherwise).\n",
    "\n",
    "# Check the majority class among those neighbors.\n",
    "\n",
    "# Assign that class to point P."
   ]
  },
  {
   "cell_type": "markdown",
   "id": "3232dc8c-db24-4c37-95b6-4b59ad8d131a",
   "metadata": {},
   "source": []
  },
  {
   "cell_type": "code",
   "execution_count": 8,
   "id": "1339db31-517b-468c-8080-5751b3cb2228",
   "metadata": {},
   "outputs": [
    {
     "name": "stdout",
     "output_type": "stream",
     "text": [
      "The prediction is: 0\n"
     ]
    }
   ],
   "source": [
    "# Q5\n",
    "import numpy as np\n",
    "from sklearn.neighbors import KNeighborsClassifier\n",
    "\n",
    "# 1. Points and their classes\n",
    "points = np.array([\n",
    "    [2.0, 3.0],  # A\n",
    "    [1.0, 1.0],  # B\n",
    "    [4.0, 4.0],  # C\n",
    "    [5.0, 2.0]   # D\n",
    "])\n",
    "labels = np.array([0, 1, 1, 0])  # Corresponding labels for A, B, C, D\n",
    "\n",
    "# 2. New point to classify\n",
    "p = np.array([3.0, 3.0])\n",
    "\n",
    "# 3. Calculate Euclidean distances (correctly)\n",
    "distances = np.sqrt(np.sum((points - p) ** 2, axis=1))\n",
    "\n",
    "# 4. Use original points, not distances, to fit the KNN\n",
    "model = KNeighborsClassifier(n_neighbors=1)  # K=3 for example\n",
    "model.fit(points, labels)\n",
    "\n",
    "# 5. Predict the class of new point `p`\n",
    "pdt = model.predict([p])  # Wrap `p` in a list to make it 2D\n",
    "\n",
    "print(f'The prediction is: {pdt[0]}')\n"
   ]
  },
  {
   "cell_type": "code",
   "execution_count": null,
   "id": "554daaa7-69b6-497a-8ce1-e9eb392b65c5",
   "metadata": {},
   "outputs": [],
   "source": [
    "# 🎓 Problem Statement\n",
    "# You have student scores from 3 exams and whether they Passed or Failed. You want to predict the class (\"Pass\" or \"Fail\") for a new student using KNN."
   ]
  },
  {
   "cell_type": "code",
   "execution_count": 13,
   "id": "e4479740-8b0e-41a0-a79d-72537567f29b",
   "metadata": {},
   "outputs": [
    {
     "name": "stdout",
     "output_type": "stream",
     "text": [
      "Fail\n"
     ]
    }
   ],
   "source": [
    "# Q6\n",
    "# import numpy as np\n",
    "# from sklearn.neighbors import KNeighboursClassifier\n",
    "\n",
    "X = np.array([\n",
    "    [85, 90, 70],\n",
    "    [60, 50, 95],\n",
    "    [45, 75, 65],\n",
    "    [55, 92, 50],\n",
    "    [88, 80, 70],\n",
    "    [58, 96, 48]\n",
    "])\n",
    "\n",
    "# Step 2: Labels (y)\n",
    "y = np.array([\"Pass\", \"Pass\", \"Fail\", \"Fail\", \"Pass\", \"Fail\"])\n",
    "new_stud=np.array([[20,78,75]])\n",
    "knn=KNeighborsClassifier(n_neighbors=3)\n",
    "knn.fit(X,y)\n",
    "pdt=knn.predict(new_stud)\n",
    "print(pdt[0])"
   ]
  },
  {
   "cell_type": "code",
   "execution_count": null,
   "id": "141c691f-04b1-4d0d-99e0-a8df1d19e6a4",
   "metadata": {},
   "outputs": [],
   "source": []
  },
  {
   "cell_type": "code",
   "execution_count": null,
   "id": "f2ff9d7b-38cb-4b2a-8b10-8e58606bf14f",
   "metadata": {},
   "outputs": [],
   "source": []
  },
  {
   "cell_type": "code",
   "execution_count": null,
   "id": "fe0f7c50-a0a2-4589-b097-217e9b62dc2b",
   "metadata": {},
   "outputs": [],
   "source": []
  }
 ],
 "metadata": {
  "kernelspec": {
   "display_name": "Python 3 (ipykernel)",
   "language": "python",
   "name": "python3"
  },
  "language_info": {
   "codemirror_mode": {
    "name": "ipython",
    "version": 3
   },
   "file_extension": ".py",
   "mimetype": "text/x-python",
   "name": "python",
   "nbconvert_exporter": "python",
   "pygments_lexer": "ipython3",
   "version": "3.13.2"
  }
 },
 "nbformat": 4,
 "nbformat_minor": 5
}

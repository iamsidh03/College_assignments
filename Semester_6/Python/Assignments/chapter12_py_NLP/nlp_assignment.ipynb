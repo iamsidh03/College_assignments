{
 "cells": [
  {
   "cell_type": "code",
   "execution_count": null,
   "id": "535fac87-4ee5-4e2d-9359-d80fc8f71622",
   "metadata": {},
   "outputs": [],
   "source": [
    "import requests\n",
    "from bs4 import BeautifulSoap\n",
    "from nltk.corpus import stopwords\n",
    "from wordcloud import WorldCloud\n",
    "from matplotlib.pyplot import plt\n",
    "#download resourses\n",
    "nltk.download('punkt')\n",
    "nltk.download('stopwords')\n",
    "url=''\n",
    "response=requests.get(url)\n",
    "soap=BeautifulSoap(response.text,'html.parser')\n",
    "text=soap.get_text()\n",
    "wrd=word_tokenize(text)\n",
    "stp=set(stopwords.words(wrd))\n",
    "filtertxt=[w for w in wrd if w.lower() is not stp and w.isalpha]\n",
    "clr=''.join(filtertxt)\n",
    "wcld=worldcloud.generate(clr)\n",
    "\n",
    "plt.imshow()\n",
    "plt.show()\n"
   ]
  },
  {
   "cell_type": "code",
   "execution_count": 1,
   "id": "613ded8f-6181-4401-ba0b-fc769c3808a0",
   "metadata": {},
   "outputs": [],
   "source": [
    "#7\n",
    "from textblob import TextBlob\n",
    "\n",
    "text=''\n",
    "blob=TextBlob(text)\n",
    "w=blob.words\n",
    "s=blob.sentences\n",
    "np=blob.noun_phases\n"
   ]
  },
  {
   "cell_type": "code",
   "execution_count": null,
   "id": "b2b04e8c-d0c4-40a1-968d-9f4aa37eca29",
   "metadata": {},
   "outputs": [],
   "source": [
    "import requests\n",
    "from bs4 import BeautifulSoup\n",
    "from textblob import TextBlob\n",
    "url=''\n",
    "response=requests.get(url)\n",
    "soap=BeautifulSoup(response.text,'HTML-parse')\n",
    "#extract text\n",
    "text=soap.get_text()\n",
    "blob=Textblob(text)\n",
    "w=blob.words\n",
    "s=blob.sentences\n",
    "#overall sentiment\n",
    "print('overall sentiment')\n",
    "print(blob.sentiment.polarity)\n",
    "print(blob.sentiment.subjectivity)\n",
    "\n",
    "print('sentence by sentence')\n",
    "for i,s in enumerate(blob.sentences):\n",
    "    print(f'sentence {i+1}')\n",
    "    print(s)\n",
    "    print(s.sentiment.polarity)\n",
    "    print(s.sentiment.subjectivity)\n"
   ]
  },
  {
   "cell_type": "code",
   "execution_count": null,
   "id": "2cc5dad2-b50c-4e1d-a506-2fe92db72e71",
   "metadata": {},
   "outputs": [],
   "source": [
    "#10\n",
    "from textblob import TextBlob\n",
    "text=''\n",
    "blob=TextBlob()\n",
    "wrd=blob.words\n",
    "\n",
    "for w in wrd:\n",
    "    if w.lower() !=TextBlob(w).correct().lower()\n",
    "        print(f'mispelled {w}')\n",
    "        print(f'Correct spell {TextBlob(word).correct()}\\n')\n"
   ]
  },
  {
   "cell_type": "code",
   "execution_count": null,
   "id": "094efe18-3038-4ae5-8965-dbe57f389303",
   "metadata": {},
   "outputs": [],
   "source": [
    "#11 \n",
    "#• Write a Python program that takes user input in English and translates it to French, Spanish, and\n",
    " # German using TextBlob.\n",
    "from textblob import TExtBlob\n",
    "inp=input('enter words')\n",
    "blob.TextBlob(inp)\n",
    "print(blob.transtate(to='fr'))\n",
    "print(blob.transtate(to='es'))\n",
    "print(blob.transtate(to='de'))"
   ]
  },
  {
   "cell_type": "code",
   "execution_count": null,
   "id": "ff2ad177-ccc6-4f60-b8f5-6e88fa0825d0",
   "metadata": {},
   "outputs": [],
   "source": [
    "#11\n",
    " # • Create a program that takes multiple user-inputted sentences, analyzes polarity and subjectivity,\n",
    " # and categorizes them as objective/subjective and positive/negative/neutral.\n",
    "from textblob import TextBlob\n",
    "nltk.download('punkt')\n",
    "# as we newd to to take multiple sententces we stip at '.'\n",
    "text=input(\"enter Text\").strip('.')\n",
    "\n",
    "for s in text:\n",
    "    if text.strip():\n",
    "        blob=TextBlob(text.strip())\n",
    "        pol=blob.sentiment.polarity\n",
    "        suv=blob.sentiment.subjectivity\n",
    "        if pol>0:\n",
    "            print('neg sentiment')\n",
    "        else:\n",
    "            print('pos sentiment')\n",
    "        if suv>0.5:\n",
    "            print('subjective')\n",
    "        else:\n",
    "            print('objective')"
   ]
  },
  {
   "cell_type": "code",
   "execution_count": null,
   "id": "011569da-c8d8-4f60-8d59-f5bb85962b31",
   "metadata": {},
   "outputs": [],
   "source": [
    "#• Develop a function that takes a paragraph, splits it into sentences, and calculates the sentiment\n",
    " #score for each sentence individually.\n",
    "def sentence_sentiment(paragraph):\n",
    "    blob = TextBlob(paragraph)\n",
    "    for i, sentence in enumerate(blob.sentences):\n",
    "        print(f\"\\nSentence {i+1}: {sentence}\")\n",
    "        print(\"Polarity:\", sentence.sentiment.polarity)\n",
    "        print(\"Subjectivity:\", sentence.sentiment.subjectivity)\n",
    "\n",
    "# Example usage\n",
    "text = input(\"Enter a paragraph: \")\n",
    "sentence_sentiment(text)\n",
    "\n"
   ]
  },
  {
   "cell_type": "code",
   "execution_count": null,
   "id": "6a480c84-e5d2-47a4-8200-167fb7f45ff7",
   "metadata": {},
   "outputs": [],
   "source": [
    "# • Write a program that takes a sentence as input and prints each word along with its POS tag using\n",
    " # TextBlob.\n",
    "sen=input('Enter a sentences')\n",
    "blob=TextBlob(sentence)\n",
    "print('\\nWords and POS tags:')\n",
    "for word,tag in blob.tags:\n",
    "    print(f'{word} -->{tag}')\n",
    "    "
   ]
  },
  {
   "cell_type": "code",
   "execution_count": 4,
   "id": "e57309e0-a833-4e91-b84c-35f135f2a3bc",
   "metadata": {},
   "outputs": [
    {
     "name": "stdin",
     "output_type": "stream",
     "text": [
      "enter a word wellcome\n"
     ]
    },
    {
     "name": "stdout",
     "output_type": "stream",
     "text": [
      "top 3 suggestions:\n",
      "('welcome', 1.0)\n"
     ]
    }
   ],
   "source": [
    "# 5. Spelling check with top 3 suggestions\n",
    "def correct_spelling(word):\n",
    "    from textblob import Word\n",
    "    sug=Word(word).spellcheck()\n",
    "    print('top 3 suggestions:')\n",
    "    for s in sug[:3]:\n",
    "        print(f'{s}')\n",
    "word=input('enter a word')\n",
    "correct_spelling(word)"
   ]
  },
  {
   "cell_type": "code",
   "execution_count": null,
   "id": "6c966533-6568-4af9-b52c-d2db75637ba1",
   "metadata": {},
   "outputs": [],
   "source": [
    "#6. Extract adjectives from a paragraph\n",
    "def extract_adjective(para):\n",
    "    blob=TextBlob(para)\n",
    "    adj=[w for w,p in blob.tags if p=='JJ']\n",
    "    print('Adjective in order')\n",
    "    print(adj)\n",
    "para=input('enter a paragraph')\n",
    "extract_adjective(para)"
   ]
  },
  {
   "cell_type": "code",
   "execution_count": null,
   "id": "0403012a-69f8-4e88-8bab-a9b26230cffd",
   "metadata": {},
   "outputs": [],
   "source": [
    "# 7. Extract top 5 most common noun phrases (keywords)\n",
    "def extract_keywords(text):\n",
    "    blob=TextBlob(text):\n",
    "    from Collections import Counter #most crucial\n",
    "    ph=Counter(blob.noun_phrases)\n",
    "    for p,cnt in ph.most_comman(5):\n",
    "        print(f'{p} ({cnt} times')\n",
    "art=input('paste the article here')\n",
    "extract_keywords(art)"
   ]
  },
  {
   "cell_type": "code",
   "execution_count": null,
   "id": "73f85ecf-4206-429c-8a74-6ad99c01e98f",
   "metadata": {},
   "outputs": [],
   "source": [
    "# 8. Summarize paragraph using noun phrase frequency\n",
    "def summarize(text):\n",
    "    blob=TextBlob(text)\n",
    "    from Collection import Counter\n",
    "    phcnt=Counter(blob.noun_phrases)\n",
    "    scored_sent=[]\n",
    "    for s in blob.sentences:\n",
    "        score=sum(phcnt[np] for np in s.noun_phrases):\n",
    "        scored_sent.append((score,s))\n",
    "    scored_sent.sort(reverse=True)\n",
    "\n",
    "    print('\\nsummary')\n",
    "    for s,sent in scored_sent[:3]:\n",
    "        print('-',sent)\n",
    "\n",
    "t=input('Enter a paragraph for summarization')\n",
    "summarize(t)\n",
    "                  \n",
    "    "
   ]
  },
  {
   "cell_type": "code",
   "execution_count": null,
   "id": "e4259bd6-6ab7-4a95-b24a-6dccbb945736",
   "metadata": {},
   "outputs": [],
   "source": [
    "# 12. Write a Python program that takes a word as input and returns:\n",
    " # • Its definition\n",
    " # • Its synonyms\n",
    " # • Its antonyms(if available)\n",
    "import nltk\n",
    "from nltk.corpus import wordnet\n",
    "nltk.download('wordnet')\n",
    "nltk.download('own-14')\n",
    "word=input('Enter word')\n",
    "synsets=wordnets.synsets(word)\n",
    "if synsets:\n",
    "    print(synset[0].defination())\n",
    "else:\n",
    "    print('No definition')\n",
    "Synonyms=set()\n",
    "for sys in synsets:\n",
    "    for lem in syn.lemmas():\n",
    "        Synonyms.add(lem.name())\n",
    "Antonyms=set()\n",
    "for syn in synsets:\n",
    "    for lem in syn.lemmas():\n",
    "        if lem.antonyms():\n",
    "            Antonyms.add(lem.antonyms()[0].name())\n",
    "print('Antonyms',','.join(Antonyms) if antonyms else 'no antonmys')\n"
   ]
  },
  {
   "cell_type": "code",
   "execution_count": null,
   "id": "882e0c68-ef88-4b1e-a1c5-804dfe1ab62c",
   "metadata": {},
   "outputs": [],
   "source": []
  }
 ],
 "metadata": {
  "kernelspec": {
   "display_name": "Python 3 (ipykernel)",
   "language": "python",
   "name": "python3"
  },
  "language_info": {
   "codemirror_mode": {
    "name": "ipython",
    "version": 3
   },
   "file_extension": ".py",
   "mimetype": "text/x-python",
   "name": "python",
   "nbconvert_exporter": "python",
   "pygments_lexer": "ipython3",
   "version": "3.13.2"
  }
 },
 "nbformat": 4,
 "nbformat_minor": 5
}

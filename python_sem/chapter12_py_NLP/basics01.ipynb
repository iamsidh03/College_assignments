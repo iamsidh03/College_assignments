{
 "cells": [
  {
   "cell_type": "code",
   "execution_count": 13,
   "id": "b10b57fe-94cb-4982-b1c7-bd0adcc5aedf",
   "metadata": {},
   "outputs": [
    {
     "name": "stdout",
     "output_type": "stream",
     "text": [
      "Requirement already satisfied: textblob in c:\\users\\siddh\\downloads\\all_code\\python\\venv\\lib\\site-packages (0.19.0)\n",
      "Requirement already satisfied: nltk>=3.9 in c:\\users\\siddh\\downloads\\all_code\\python\\venv\\lib\\site-packages (from textblob) (3.9.1)\n",
      "Requirement already satisfied: click in c:\\users\\siddh\\downloads\\all_code\\python\\venv\\lib\\site-packages (from nltk>=3.9->textblob) (8.1.8)\n",
      "Requirement already satisfied: joblib in c:\\users\\siddh\\downloads\\all_code\\python\\venv\\lib\\site-packages (from nltk>=3.9->textblob) (1.4.2)\n",
      "Requirement already satisfied: regex>=2021.8.3 in c:\\users\\siddh\\downloads\\all_code\\python\\venv\\lib\\site-packages (from nltk>=3.9->textblob) (2024.11.6)\n",
      "Requirement already satisfied: tqdm in c:\\users\\siddh\\downloads\\all_code\\python\\venv\\lib\\site-packages (from nltk>=3.9->textblob) (4.67.1)\n",
      "Requirement already satisfied: colorama in c:\\users\\siddh\\downloads\\all_code\\python\\venv\\lib\\site-packages (from click->nltk>=3.9->textblob) (0.4.6)\n",
      "Note: you may need to restart the kernel to use updated packages.\n"
     ]
    }
   ],
   "source": [
    "!pip install textblob"
   ]
  },
  {
   "cell_type": "code",
   "execution_count": 1,
   "id": "b7ad57cc-5e72-4003-84e2-1cd1b548c68f",
   "metadata": {},
   "outputs": [
    {
     "data": {
      "text/plain": [
       "TextBlob(\"today is good day. Tomorrow looks like bad\")"
      ]
     },
     "execution_count": 1,
     "metadata": {},
     "output_type": "execute_result"
    }
   ],
   "source": [
    "#create a textblob \n",
    "\n",
    "from textblob import TextBlob\n",
    "text=\"today is good day. Tomorrow looks like bad\"\n",
    "blob=TextBlob(text)\n",
    "blob\n"
   ]
  },
  {
   "cell_type": "code",
   "execution_count": 3,
   "id": "b1d04942-77ec-4404-811e-a004f1a1fa6a",
   "metadata": {},
   "outputs": [
    {
     "ename": "NameError",
     "evalue": "name 'nltk' is not defined",
     "output_type": "error",
     "traceback": [
      "\u001b[31m---------------------------------------------------------------------------\u001b[39m",
      "\u001b[31mNameError\u001b[39m                                 Traceback (most recent call last)",
      "\u001b[36mCell\u001b[39m\u001b[36m \u001b[39m\u001b[32mIn[3]\u001b[39m\u001b[32m, line 1\u001b[39m\n\u001b[32m----> \u001b[39m\u001b[32m1\u001b[39m \u001b[43mnltk\u001b[49m.down\n",
      "\u001b[31mNameError\u001b[39m: name 'nltk' is not defined"
     ]
    }
   ],
   "source": [
    "nltk.down"
   ]
  },
  {
   "cell_type": "code",
   "execution_count": 2,
   "id": "df147073-7d67-4958-8494-51d4fa418607",
   "metadata": {},
   "outputs": [
    {
     "name": "stdout",
     "output_type": "stream",
     "text": [
      "['Natural', 'Language', 'Processing', 'is', 'an', 'interesting', 'field', 'of', 'AI']\n",
      "[('Natural', 'JJ'), ('Language', 'NNP'), ('Processing', 'NNP'), ('is', 'VBZ'), ('an', 'DT'), ('interesting', 'JJ'), ('field', 'NN'), ('of', 'IN'), ('AI', 'NNP')]\n",
      "Sentiment(polarity=0.3, subjectivity=0.45)\n"
     ]
    }
   ],
   "source": [
    "from textblob import TextBlob\n",
    "text = \"Natural Language Processing is an interesting field of AI.\"\n",
    "blob = TextBlob(text)\n",
    "\n",
    "# Tokenization\n",
    "print(blob.words)  \n",
    "\n",
    "# POS (Part of Speech) tagging\n",
    "print(blob.tags)  \n",
    "\n",
    "# Sentiment analysis\n",
    "print(blob.sentiment)  \n"
   ]
  },
  {
   "cell_type": "code",
   "execution_count": 12,
   "id": "4b56710d-8118-4c44-9211-a75fbbcf555d",
   "metadata": {},
   "outputs": [
    {
     "ename": "SyntaxError",
     "evalue": "invalid syntax (2857300062.py, line 2)",
     "output_type": "error",
     "traceback": [
      "  \u001b[36mCell\u001b[39m\u001b[36m \u001b[39m\u001b[32mIn[12]\u001b[39m\u001b[32m, line 2\u001b[39m\n\u001b[31m    \u001b[39m\u001b[31mpython -m spacy download en_core_web_sm\u001b[39m\n              ^\n\u001b[31mSyntaxError\u001b[39m\u001b[31m:\u001b[39m invalid syntax\n"
     ]
    }
   ],
   "source": [
    "!pip install spacy\n",
    "python -m spacy download en_core_web_sm\n"
   ]
  },
  {
   "cell_type": "code",
   "execution_count": 10,
   "id": "4e62cf07-5f81-4df2-9b23-4fa1a4993e14",
   "metadata": {},
   "outputs": [
    {
     "ename": "ModuleNotFoundError",
     "evalue": "No module named 'spacy'",
     "output_type": "error",
     "traceback": [
      "\u001b[31m---------------------------------------------------------------------------\u001b[39m",
      "\u001b[31mModuleNotFoundError\u001b[39m                       Traceback (most recent call last)",
      "\u001b[36mCell\u001b[39m\u001b[36m \u001b[39m\u001b[32mIn[10]\u001b[39m\u001b[32m, line 1\u001b[39m\n\u001b[32m----> \u001b[39m\u001b[32m1\u001b[39m \u001b[38;5;28;01mimport\u001b[39;00m\u001b[38;5;250m \u001b[39m\u001b[34;01mspacy\u001b[39;00m \n\u001b[32m      2\u001b[39m npl=spacy.load(\u001b[33m'\u001b[39m\u001b[33men\u001b[39m\u001b[33m'\u001b[39m)\n\u001b[32m      3\u001b[39m document = nlp(\u001b[33m'\u001b[39m\u001b[33mIn 1994, Tim Berners-Lee founded the \u001b[39m\u001b[33m'\u001b[39m +  \u001b[33m'\u001b[39m\u001b[33mWorld Wide Web Consortium (W3C), devoted to \u001b[39m\u001b[33m'\u001b[39m +\u001b[33m'\u001b[39m\u001b[33mdeveloping web technologies\u001b[39m\u001b[33m'\u001b[39m)\n",
      "\u001b[31mModuleNotFoundError\u001b[39m: No module named 'spacy'"
     ]
    }
   ],
   "source": [
    "import spacy \n",
    "npl=spacy.load('en')\n",
    "document = nlp('In 1994, Tim Berners-Lee founded the ' +  'World Wide Web Consortium (W3C), devoted to ' +'developing web technologies')\n",
    "for entity in document.ents:\n",
    "     print(f'{entity.text}: {entity.label_}')"
   ]
  },
  {
   "cell_type": "code",
   "execution_count": null,
   "id": "bf969385-5354-4738-ac4d-ac15135442d0",
   "metadata": {},
   "outputs": [],
   "source": []
  },
  {
   "cell_type": "code",
   "execution_count": null,
   "id": "6180e2ab-3fd1-4190-a3e5-f6f69ff44ae3",
   "metadata": {},
   "outputs": [],
   "source": []
  },
  {
   "cell_type": "code",
   "execution_count": null,
   "id": "85994ef7-6208-41e2-998a-52be6b04cfb4",
   "metadata": {},
   "outputs": [],
   "source": []
  }
 ],
 "metadata": {
  "kernelspec": {
   "display_name": "Python 3 (ipykernel)",
   "language": "python",
   "name": "python3"
  },
  "language_info": {
   "codemirror_mode": {
    "name": "ipython",
    "version": 3
   },
   "file_extension": ".py",
   "mimetype": "text/x-python",
   "name": "python",
   "nbconvert_exporter": "python",
   "pygments_lexer": "ipython3",
   "version": "3.13.2"
  }
 },
 "nbformat": 4,
 "nbformat_minor": 5
}

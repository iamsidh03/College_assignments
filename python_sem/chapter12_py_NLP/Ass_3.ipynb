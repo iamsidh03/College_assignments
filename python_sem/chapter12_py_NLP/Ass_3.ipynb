{
 "cells": [
  {
   "cell_type": "markdown",
   "id": "eb9ffafb-6a0f-490f-a75f-17037f176d41",
   "metadata": {},
   "source": [
    "NLP ASSGNMENT"
   ]
  },
  {
   "cell_type": "code",
   "execution_count": 3,
   "id": "f27fbcdc-d7bc-43d2-932f-6ac88a46631d",
   "metadata": {},
   "outputs": [
    {
     "name": "stdout",
     "output_type": "stream",
     "text": [
      "Requirement already satisfied: textblob in c:\\users\\siddh\\downloads\\all_code\\python\\venv\\lib\\site-packages (0.19.0)\n",
      "Requirement already satisfied: nltk>=3.9 in c:\\users\\siddh\\downloads\\all_code\\python\\venv\\lib\\site-packages (from textblob) (3.9.1)\n",
      "Requirement already satisfied: click in c:\\users\\siddh\\downloads\\all_code\\python\\venv\\lib\\site-packages (from nltk>=3.9->textblob) (8.1.8)\n",
      "Requirement already satisfied: joblib in c:\\users\\siddh\\downloads\\all_code\\python\\venv\\lib\\site-packages (from nltk>=3.9->textblob) (1.4.2)\n",
      "Requirement already satisfied: regex>=2021.8.3 in c:\\users\\siddh\\downloads\\all_code\\python\\venv\\lib\\site-packages (from nltk>=3.9->textblob) (2024.11.6)\n",
      "Requirement already satisfied: tqdm in c:\\users\\siddh\\downloads\\all_code\\python\\venv\\lib\\site-packages (from nltk>=3.9->textblob) (4.67.1)\n",
      "Requirement already satisfied: colorama in c:\\users\\siddh\\downloads\\all_code\\python\\venv\\lib\\site-packages (from click->nltk>=3.9->textblob) (0.4.6)\n"
     ]
    }
   ],
   "source": [
    "!pip install textblob"
   ]
  },
  {
   "cell_type": "code",
   "execution_count": 6,
   "id": "263c8f87-646d-43f5-8c0a-b880c60f6529",
   "metadata": {},
   "outputs": [
    {
     "data": {
      "text/plain": [
       "TextBlob(\"This is a TextBlob\")"
      ]
     },
     "execution_count": 6,
     "metadata": {},
     "output_type": "execute_result"
    }
   ],
   "source": [
    " #4. Create a TextBlob named exercise blob containing ”This is a TextBlob”\n",
    "\n",
    "from textblob import TextBlob\n",
    "exercise='This is a TextBlob'\n",
    "blob=TextBlob(exercise)\n",
    "blob\n"
   ]
  },
  {
   "cell_type": "code",
   "execution_count": null,
   "id": "d0b8f656-b80c-4597-8943-e348f5afb385",
   "metadata": {},
   "outputs": [],
   "source": [
    " <!-- 5. Write a Python script to perform the following tasks on the given text:\n",
    " • Tokenize the text into words and sentences.\n",
    " • Perform stemming and lemmatization using NLTK or SpaCy.\n",
    " • Remove stop words from the text.\n",
    " • Sample Text:\n",
    " ”Natural Language Processing enables machines to understand and process human languages.\n",
    " It is a fascinating field with numerous applications, such as chatbots and language translation.”\n",
    " -->"
   ]
  },
  {
   "cell_type": "code",
   "execution_count": 7,
   "id": "1b1092d7-fe15-4605-a7a6-89c7aa3cd060",
   "metadata": {},
   "outputs": [
    {
     "name": "stdout",
     "output_type": "stream",
     "text": [
      "Requirement already satisfied: nltk in c:\\users\\siddh\\downloads\\all_code\\python\\venv\\lib\\site-packages (3.9.1)\n",
      "Requirement already satisfied: click in c:\\users\\siddh\\downloads\\all_code\\python\\venv\\lib\\site-packages (from nltk) (8.1.8)\n",
      "Requirement already satisfied: joblib in c:\\users\\siddh\\downloads\\all_code\\python\\venv\\lib\\site-packages (from nltk) (1.4.2)\n",
      "Requirement already satisfied: regex>=2021.8.3 in c:\\users\\siddh\\downloads\\all_code\\python\\venv\\lib\\site-packages (from nltk) (2024.11.6)\n",
      "Requirement already satisfied: tqdm in c:\\users\\siddh\\downloads\\all_code\\python\\venv\\lib\\site-packages (from nltk) (4.67.1)\n",
      "Requirement already satisfied: colorama in c:\\users\\siddh\\downloads\\all_code\\python\\venv\\lib\\site-packages (from click->nltk) (0.4.6)\n"
     ]
    }
   ],
   "source": [
    "//tokenization\n",
    "import NLTK\n",
    "from nltk.tokenize import word_tokenize,sent_tokenize\n",
    "text=''\n",
    "words=word_tokenize\n",
    "\n",
    "\n"
   ]
  },
  {
   "cell_type": "code",
   "execution_count": null,
   "id": "cf71e47a-e759-4561-9700-dc05f8492a37",
   "metadata": {},
   "outputs": [],
   "source": []
  },
  {
   "cell_type": "code",
   "execution_count": null,
   "id": "cec06185-74ce-4b39-89d2-2f4e6fa1d265",
   "metadata": {},
   "outputs": [],
   "source": []
  },
  {
   "cell_type": "code",
   "execution_count": null,
   "id": "e7164abc-9d2c-45cd-8c1f-efbeba7469e6",
   "metadata": {},
   "outputs": [],
   "source": []
  }
 ],
 "metadata": {
  "kernelspec": {
   "display_name": "Python 3 (ipykernel)",
   "language": "python",
   "name": "python3"
  },
  "language_info": {
   "codemirror_mode": {
    "name": "ipython",
    "version": 3
   },
   "file_extension": ".py",
   "mimetype": "text/x-python",
   "name": "python",
   "nbconvert_exporter": "python",
   "pygments_lexer": "ipython3",
   "version": "3.13.2"
  }
 },
 "nbformat": 4,
 "nbformat_minor": 5
}

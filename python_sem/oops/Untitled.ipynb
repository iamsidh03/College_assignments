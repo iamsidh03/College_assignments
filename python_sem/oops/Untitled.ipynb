{
 "cells": [
  {
   "cell_type": "code",
   "execution_count": 4,
   "id": "07690f2d-6ac6-441b-a372-478af09af068",
   "metadata": {},
   "outputs": [
    {
     "name": "stdout",
     "output_type": "stream",
     "text": [
      "Deposited $10000.00\n",
      "Alice's account balance: $10100.00\n"
     ]
    }
   ],
   "source": [
    "#2\n",
    "'''\n",
    "__init__() is the constructor that runs when we create an object.\n",
    "\n",
    "owner is the name of the account holder.\n",
    "\n",
    "balance starts at 0.0 by default.\n",
    "'''\n",
    "class Bankaccount:\n",
    "    def __init__(self,owner,balance=0.0):\n",
    "        self.owner=owner\n",
    "        self.balance=balance\n",
    "\n",
    "    def deposit(self,amount):\n",
    "        if amount>0:\n",
    "            self.balance+=amount\n",
    "            print(f'Deposited ${amount:.2f}')\n",
    "        else:\n",
    "            print('deposit amount mus be positive')\n",
    "    def withdraw(self,amount):\n",
    "        if amount>self.amount:\n",
    "            print('insufficient balance')\n",
    "        elif amount<0:\n",
    "            print('withdrawal amount must be positive')\n",
    "        else:\n",
    "            self.balance-=amount\n",
    "            print(f'withdrew ${amount:.2f}')\n",
    "    def display(self):\n",
    "        print(f'{self.owner}\\'s account balance: ${self.balance:.2f}')\n",
    "\n",
    "my_account=Bankaccount('Alice',100.0)\n",
    "my_account.deposit(10000)\n",
    "my_account.display()\n",
    "\n",
    "\n",
    "\n",
    "\n",
    "\n",
    "\n",
    "\n"
   ]
  },
  {
   "cell_type": "code",
   "execution_count": 5,
   "id": "c005d70a-adea-4ecb-9d32-f06dfcfbe040",
   "metadata": {},
   "outputs": [
    {
     "name": "stdout",
     "output_type": "stream",
     "text": [
      "Total pages in 'Learning Python': 120\n"
     ]
    }
   ],
   "source": [
    "# Define the Chapter class\n",
    "class Chapter:\n",
    "    def __init__(self, title, pages):\n",
    "        self.title = title\n",
    "        self.pages = pages\n",
    "\n",
    "# Define the Book class\n",
    "class Book:\n",
    "    def __init__(self, title):\n",
    "        self.title = title\n",
    "        self.chapters = []\n",
    "\n",
    "    def add_chapter(self, chapter):\n",
    "        self.chapters.append(chapter)\n",
    "# append chapter in chapters List\n",
    "\n",
    "    def total_pages(self):\n",
    "        total = sum(chapter.pages for chapter in self.chapters)\n",
    "        return total\n",
    "# Create chapters\n",
    "ch1 = Chapter(\"Introduction to Python\", 30)\n",
    "ch2 = Chapter(\"Object-Oriented Programming\", 50)\n",
    "ch3 = Chapter(\"Advanced Topics\", 40)\n",
    "\n",
    "# Create a book and add chapters\n",
    "my_book = Book(\"Learning Python\")\n",
    "my_book.add_chapter(ch1)\n",
    "my_book.add_chapter(ch2)\n",
    "my_book.add_chapter(ch3)\n",
    "\n",
    "# Display total page count\n",
    "print(f\"Total pages in '{my_book.title}': {my_book.total_pages()}\")\n"
   ]
  },
  {
   "cell_type": "code",
   "execution_count": 6,
   "id": "4e1d0d87-5bdb-49d6-a48a-c3de59b4e646",
   "metadata": {},
   "outputs": [
    {
     "name": "stdout",
     "output_type": "stream",
     "text": [
      "Tasks:\n",
      "1. [] Buy groceries\n",
      "2. [x] Do laundry\n",
      "3. [] Read a book\n"
     ]
    }
   ],
   "source": [
    "task=[]\n",
    "task.append({'description':'Buy groceries','complete':False})\n",
    "task.append({\"description\": \"Do laundry\", \"complete\": True})\n",
    "task.append({\"description\": \"Read a book\", \"complete\": False})\n",
    "\n",
    "print('Tasks:')\n",
    "for i,t in enumerate(task,start=1):\n",
    "    status='[x]' if t['complete'] else'[]'\n",
    "    print(f'{i}. {status} {t['description']}')\n",
    "\n",
    "    \n",
    "    "
   ]
  },
  {
   "cell_type": "code",
   "execution_count": 7,
   "id": "5959978d-4c48-4019-87fc-a684e7effb1e",
   "metadata": {},
   "outputs": [
    {
     "name": "stdout",
     "output_type": "stream",
     "text": [
      "Tasks:\n",
      "1. [ ] Buy groceries\n",
      "2. [x] Do Laundry\n",
      "3. [ ] Read a book\n"
     ]
    }
   ],
   "source": [
    "class Task:\n",
    "    def __init__(self, des):\n",
    "        self.des = des\n",
    "        self.comp = False\n",
    "\n",
    "    def mark_comp(self):\n",
    "        self.comp = True\n",
    "\n",
    "    def display(self):\n",
    "        status = '[x]' if self.comp else '[ ]'\n",
    "        return f'{status} {self.des}'\n",
    "\n",
    "class ToDoList:\n",
    "    def __init__(self):\n",
    "        self.t = []\n",
    "\n",
    "    def add_t(self, task):\n",
    "        self.t.append(task)\n",
    "\n",
    "    def show_t(self):\n",
    "        print(\"Tasks:\")\n",
    "        for i, task in enumerate(self.t, start=1):\n",
    "            print(f'{i}. {task.display()}')\n",
    "\n",
    "# Usage\n",
    "todo = ToDoList()\n",
    "todo.add_t(Task(\"Buy groceries\"))\n",
    "todo.add_t(Task(\"Do Laundry\"))\n",
    "todo.add_t(Task(\"Read a book\"))\n",
    "\n",
    "# Mark the second task as complete\n",
    "todo.t[1].mark_comp()\n",
    "\n",
    "# Display the list\n",
    "todo.show_t()\n"
   ]
  },
  {
   "cell_type": "code",
   "execution_count": 8,
   "id": "1a84568d-dd7e-429c-9c5e-a6347c43e03b",
   "metadata": {},
   "outputs": [
    {
     "ename": "SyntaxError",
     "evalue": "expected ':' (3464149354.py, line 4)",
     "output_type": "error",
     "traceback": [
      "  \u001b[36mCell\u001b[39m\u001b[36m \u001b[39m\u001b[32mIn[8]\u001b[39m\u001b[32m, line 4\u001b[39m\n\u001b[31m    \u001b[39m\u001b[31mdef convert_to_12hr(self,)\u001b[39m\n                              ^\n\u001b[31mSyntaxError\u001b[39m\u001b[31m:\u001b[39m expected ':'\n"
     ]
    }
   ],
   "source": [
    "class Time:\n",
    "    def __init__(self,t):\n",
    "        self.t=t\n",
    "    def convert_to_12hr(self,)"
   ]
  },
  {
   "cell_type": "code",
   "execution_count": null,
   "id": "a1c44bd6-a9b8-49c7-b8a7-ae265553ae03",
   "metadata": {},
   "outputs": [],
   "source": [
    "'''\n",
    "doubt link: https://chatgpt.com/share/6803c02e-7cb8-800b-8b89-b9f24fa6be69\n",
    "'''\n",
    "\n",
    "class chapters:\n",
    "    def __init__(self,title,pc):\n",
    "        self.title=title\n",
    "        self.pc=pc\n",
    "class book:\n",
    "    def __init__(self,title):\n",
    "        self.title=title\n",
    "        self.chap=[]\n",
    "    def add_chapter(self,c):\n",
    "        self.chap.append(c)\n",
    "    def total_pages(self):\n",
    "        t=sum(c.pc for c in self.chap)\n",
    "        return t\n",
    "#for c in self.chap --> go to each chapter in the book\n",
    "ch1=chapters(\"fjksdnf\",30)\n",
    "ch2=chapters(\"3fskdsfsfsdnf\",300)\n",
    "ch3=chapters(\"fsdnf\",30)\n",
    "c=book(\"oeowqii\")\n",
    "c.add_chapter(ch1)\n",
    "c.add_chapter(ch2)\n",
    "c.add_chapter(ch3)\n",
    "print(f'{c.title} and pages {c.total_pages()}')\n",
    "\n",
    "    "
   ]
  },
  {
   "cell_type": "code",
   "execution_count": null,
   "id": "4b9f3bd3-1974-4c19-81d5-4a11528749c3",
   "metadata": {},
   "outputs": [],
   "source": [
    "#5\n",
    "import re\n",
    "class Time:\n",
    "    def __init__(self,time_str):\n",
    "        self.time_str=time_str\n",
    "    def isvalid(self):\n",
    "        p=r'^([01]?[0-9]|2[0-3]):[0-5][0-9]:[0-5][0-9]$'\n",
    "        return re.match(p,self.time_str) is not None\n",
    "    def _12_hr_formate(self):\n",
    "        if not self.isvalid():\n",
    "            return \"Invalid time formate \"\n",
    "        hr,mnt,sec=map(int,self.time_str.split(':'))\n",
    "        periods='AM'\n",
    "\n",
    "        if hr>=12:\n",
    "            periods='PM'\n",
    "        if hr==0:\n",
    "            hr=12\n",
    "        if hr>12:\n",
    "            hr-=12\n",
    "\n",
    "        return f\"{hr:02}:{mnt:02}:{sec:02}:{periods}\"\n",
    "\n",
    "    def display(self):\n",
    "        print(f\"{self._12_hr_formate()}\")\n",
    "\n",
    "t = Time(\"22:45:30\")\n",
    "t.display()\n",
    "    \n",
    "            \n",
    "            \n"
   ]
  },
  {
   "cell_type": "markdown",
   "id": "1e374759-a637-4d27-92a9-ff1686c697f0",
   "metadata": {},
   "source": [
    " 7. Write a Python program to simulate a card game using object-oriented principles. The program should\n",
    " include a Card class to represent individual playing cards, a Deck class to represent a deck of cards,\n",
    " and a Player class to represent players receiving cards. Implement a shuffle method in the Deck class\n",
    " to shuffle the cards and a deal method to distribute cards to players. Display each player’s hand after\n",
    " dealing."
   ]
  },
  {
   "cell_type": "code",
   "execution_count": null,
   "id": "1aac8659-093f-4438-9b8c-483e216421d0",
   "metadata": {},
   "outputs": [],
   "source": [
    "'''\n",
    "https://chatgpt.com/share/6803ea84-7834-800b-b187-4e2a3cd4f6dd\n",
    "'''\n",
    "import random\n",
    "class card:\n",
    "    def __init__(self,suit,rank):\n",
    "        self.suit=suit\n",
    "        self.rank=rank\n",
    "    def __str__(self):\n",
    "        return f'{self.rank} of {self.suit}'\n",
    "class deck:\n",
    "    def __init__(self):\n",
    "        suits = ['Hearts', 'Diamonds', 'Clubs', 'Spades']\n",
    "        ranks = ['2', '3', '4', '5', '6', '7', '8', '9', '10',\n",
    "                 'Jack', 'Queen', 'King', 'Ace']\n",
    "        self.card=[card(s,r) for s in suits for r in ranks]\n",
    "    def shuffle(self):\n",
    "        random.shuffle(self.card)\n",
    "        \n",
    "    def deal(self,num_players,card_each):\n",
    "        hands=[[] for _ in range(num_players)]\n",
    "        for _ in range(card_each):\n",
    "            for h in hands:\n",
    "                if self.card:\n",
    "                    h.append(self.card.pop())\n",
    "        return hands\n",
    "class player:\n",
    "    def __init__(self,name):\n",
    "        self.name=name\n",
    "        self.hand=[]\n",
    "    def receive_cards(self,cards):\n",
    "        self.hand.extend(cards)\n",
    "        \n",
    "    def show_hand(self):\n",
    "        print(f'{self.name}\\'s hand')\n",
    "        for card in self.hand:\n",
    "            print(f' -{card}')\n",
    "        print()\n",
    "d=deck()\n",
    "d.shuffle()\n",
    "p=[player(\"Alice\"), player(\"Bob\")]\n",
    "hands=d.deal(num_players=2,card_each=5)\n",
    "for player, hand in zip(p, hands):\n",
    "    player.receive_cards(hand)\n",
    "    player.show_hand()\n",
    "        \n"
   ]
  },
  {
   "cell_type": "markdown",
   "id": "d14b1600-9176-4dbf-bad6-f6b23ace213f",
   "metadata": {},
   "source": [
    "Starting from question 1\n"
   ]
  },
  {
   "cell_type": "markdown",
   "id": "ca0ca649-49ac-43ba-98c3-e8511c619a55",
   "metadata": {},
   "source": [
    "1. What is the significance of classes in Python programming, and how do they contribute to object\n",
    "oriented programming?"
   ]
  },
  {
   "cell_type": "code",
   "execution_count": null,
   "id": "15231a57-7b19-4594-a091-c38979440e68",
   "metadata": {},
   "outputs": [],
   "source": []
  },
  {
   "cell_type": "code",
   "execution_count": null,
   "id": "0b7351aa-6755-48c8-bd56-888549214328",
   "metadata": {},
   "outputs": [],
   "source": []
  },
  {
   "cell_type": "code",
   "execution_count": null,
   "id": "87d3e379-5dcc-4cfd-9239-47439d7565ae",
   "metadata": {},
   "outputs": [],
   "source": []
  }
 ],
 "metadata": {
  "kernelspec": {
   "display_name": "Python 3 (ipykernel)",
   "language": "python",
   "name": "python3"
  },
  "language_info": {
   "codemirror_mode": {
    "name": "ipython",
    "version": 3
   },
   "file_extension": ".py",
   "mimetype": "text/x-python",
   "name": "python",
   "nbconvert_exporter": "python",
   "pygments_lexer": "ipython3",
   "version": "3.13.2"
  }
 },
 "nbformat": 4,
 "nbformat_minor": 5
}
